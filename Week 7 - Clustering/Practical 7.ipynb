{
 "cells": [
  {
   "cell_type": "code",
   "execution_count": 4,
   "metadata": {
    "collapsed": true,
    "deletable": true,
    "editable": true,
    "slideshow": {
     "slide_type": "skip"
    }
   },
   "outputs": [],
   "source": [
    "from IPython.display import Image"
   ]
  },
  {
   "cell_type": "markdown",
   "metadata": {
    "deletable": true,
    "editable": true,
    "slideshow": {
     "slide_type": "slide"
    }
   },
   "source": [
    "# Data Mining\n",
    "\n",
    "# Practical 7: Applications & Implications\n",
    "\n",
    "![img](https://udemy-images.udemy.com/course/750x422/918390_02a6.jpg)"
   ]
  },
  {
   "cell_type": "markdown",
   "metadata": {
    "deletable": true,
    "editable": true,
    "slideshow": {
     "slide_type": "slide"
    }
   },
   "source": [
    "## Recommender Systems"
   ]
  },
  {
   "cell_type": "markdown",
   "metadata": {
    "deletable": true,
    "editable": true,
    "slideshow": {
     "slide_type": "subslide"
    }
   },
   "source": [
    "### What Would You Like?\n",
    "\n",
    "- Facebook\n",
    "- Amazon\n",
    "- Spotify\n",
    "- Netflix\n",
    "\n",
    "![img_rec2](http://image.slidesharecdn.com/shah-june27-425pm-room210a-v2-130710105227-phpapp01/95/recommender-system-at-scale-using-hbase-and-hadoop-8-638.jpg?cb=1373453680)"
   ]
  },
  {
   "cell_type": "markdown",
   "metadata": {
    "deletable": true,
    "editable": true,
    "slideshow": {
     "slide_type": "subslide"
    }
   },
   "source": [
    "### Collaborative Filtering\n",
    "\n",
    "![img_col](https://upload.wikimedia.org/wikipedia/commons/5/52/Collaborative_filtering.gif)\n",
    "\n",
    "Pretty standard DM task: given this history, predict recommendation for user X."
   ]
  },
  {
   "cell_type": "markdown",
   "metadata": {
    "deletable": true,
    "editable": true,
    "slideshow": {
     "slide_type": "subslide"
    }
   },
   "source": [
    "### Why Does This Work?\n",
    "\n",
    "- Users that like the same content are deemed to be similar.\n",
    "- Content that is liked by the same kind of users is deemed to be similar.\n",
    "- Content doesn't matter: books, music, pictures, etc."
   ]
  },
  {
   "cell_type": "markdown",
   "metadata": {
    "slideshow": {
     "slide_type": "subslide"
    }
   },
   "source": [
    "### How do we evaluate?\n",
    "\n",
    "- Rank\n",
    "\n",
    "| current movie  | suggested movies                      | next movie    | rank | MRR  |\n",
    "| -------------- | ------------------------------------- | ------------- | ---- | ---- |\n",
    "| toy story      | aladdin, lego tm, monsters inc.       | monsters inc. | 3    | 1/3  |\n",
    "| rambo          | the god father, rocky, pulp fiction \t | rocky         | 2    | 1/2  |\n",
    "| titanic        | the notebook, gladiator, forrest gump | the notebook  | 1    | 1    |\n",
    "|                |                                       |               |      | 0.61 |\n",
    " \n",
    "- Feedback (standard metrics)"
   ]
  },
  {
   "cell_type": "markdown",
   "metadata": {
    "deletable": true,
    "editable": true,
    "slideshow": {
     "slide_type": "subslide"
    }
   },
   "source": [
    "### Where Does It Fail?\n",
    "\n",
    "- Relies on data:\n",
    "    - Popular items have a lot of that.\n",
    "    - If this $\\neq$ then that.\n",
    "    - Cold start problem: new user / new item.\n",
    "    \n",
    "    \n",
    "![img_rec3](http://insidebigdata.com/wp-content/uploads/2014/06/Humor_recommender.jpg)"
   ]
  },
  {
   "cell_type": "markdown",
   "metadata": {
    "deletable": true,
    "editable": true,
    "slideshow": {
     "slide_type": "subslide"
    }
   },
   "source": [
    "### Content-based Filtering\n",
    "\n",
    "- Uses content or meta-data for items.\n",
    "    - Text from books.\n",
    "    - Audio from music.\n",
    "    - Stills from films.\n",
    "    - Titles, tags, actors, year, theme, etc."
   ]
  },
  {
   "cell_type": "markdown",
   "metadata": {
    "deletable": true,
    "editable": true,
    "slideshow": {
     "slide_type": "subslide"
    }
   },
   "source": [
    "### Interpeting Content: Audio Example\n",
    "\n",
    "By Van den Oord, Dieleman, and Schrauwe (2013). See [blog](https://benanne.github.io/2014/08/05/spotify-cnns.html).\n",
    "\n",
    "[![img_mus](https://benanne.github.io/images/prentje_nips.png)](https://benanne.github.io/2014/08/05/spotify-cnns.html)"
   ]
  },
  {
   "cell_type": "markdown",
   "metadata": {
    "deletable": true,
    "editable": true,
    "slideshow": {
     "slide_type": "subslide"
    }
   },
   "source": [
    "### Observations From the Netflix Prize\n",
    "\n",
    "\\$1M to beat Netflix' RMSE for predicting user's movie ratings. Intuitive solutions?\n",
    "\n",
    "- Standard features:\n",
    "    - Predict according to relative quality.\n",
    "    - User's tendency of voting (critical users).\n",
    "    - Compatibility with the movie.\n",
    "    \n",
    "    \n",
    "![nf_prize](http://4.bp.blogspot.com/-22y2c1qT3CA/T3-aKF-i6pI/AAAAAAAAAO0/nCJZ2OotiRw/s1600/NetflixPrize.png)"
   ]
  },
  {
   "cell_type": "markdown",
   "metadata": {
    "deletable": true,
    "editable": true,
    "slideshow": {
     "slide_type": "subslide"
    }
   },
   "source": [
    "- Time-based features:\n",
    "    - People who rate in batch tend to rate older movies.\n",
    "        - Different rating criteria (nostalgia).\n",
    "        - Movies sometimes don't age well.\n",
    "    - Present time also plays a role.\n",
    "        - Same movies rated differently friday vs. monday.\n",
    "        - Moods are up on sundays, raising ratings."
   ]
  },
  {
   "cell_type": "markdown",
   "metadata": {
    "slideshow": {
     "slide_type": "slide"
    }
   },
   "source": [
    "## Privacy Account"
   ]
  },
  {
   "cell_type": "markdown",
   "metadata": {
    "slideshow": {
     "slide_type": "subslide"
    }
   },
   "source": [
    "> *Netflix is canceling its second $1 million Netflix Prize to settle a legal challenge that it breached customer privacy as part of the first contest’s race for a better movie-recommendation engine.*\n",
    "\n",
    "&nbsp;\n",
    "\n",
    "> *A lawsuit filed in a Chicago-area court earlier this month alleges that Facebook is violating Illinois law by using facial recognition technology to make it easier for users to connect with each other online*\n",
    "\n",
    "&nbsp;\n",
    "\n",
    "> *[Target's analyst] noticed that women on the baby registry were buying larger quantities of unscented lotion around the beginning of their second trimester. Another analyst noted that sometime in the first 20 weeks, pregnant women loaded up on supplements like calcium, magnesium and zinc. Many shoppers purchase soap and cotton balls, but when someone suddenly starts buying lots of scent-free soap and extra-big bags of cotton balls, in addition to hand sanitizers and washcloths, it signals they could be getting close to their delivery date.*"
   ]
  },
  {
   "cell_type": "markdown",
   "metadata": {
    "slideshow": {
     "slide_type": "subslide"
    }
   },
   "source": [
    "### What's in a [text / picture / tweet / movie]?\n",
    "\n",
    "- Identity\n",
    "- Age\n",
    "- Gender\n",
    "- Personality\n",
    "- Socio-economic Status\n",
    "- Mental illnesses\n",
    "- Political preferences\n",
    "- Popularity\n",
    "- Quality of Life\n",
    "- ..."
   ]
  },
  {
   "cell_type": "markdown",
   "metadata": {
    "slideshow": {
     "slide_type": "subslide"
    }
   },
   "source": [
    "### Towards a Healthier Research Environment\n",
    "\n",
    "- [Explanations](http://distill.pub/).\n",
    "- [Differential Privacy](https://en.wikipedia.org/wiki/Differential_privacy).\n",
    "- Obfuscation.\n",
    "- ?"
   ]
  }
 ],
 "metadata": {
  "celltoolbar": "Slideshow",
  "kernelspec": {
   "display_name": "Python 3",
   "language": "python",
   "name": "python3"
  },
  "language_info": {
   "codemirror_mode": {
    "name": "ipython",
    "version": 3
   },
   "file_extension": ".py",
   "mimetype": "text/x-python",
   "name": "python",
   "nbconvert_exporter": "python",
   "pygments_lexer": "ipython3",
   "version": "3.5.2"
  }
 },
 "nbformat": 4,
 "nbformat_minor": 1
}
